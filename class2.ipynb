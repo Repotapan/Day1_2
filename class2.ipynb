{
 "cells": [
  {
   "cell_type": "code",
   "execution_count": 1,
   "id": "11de9f2a-b660-47e0-a8d8-c0c9402cfb16",
   "metadata": {},
   "outputs": [],
   "source": [
    "l=[1,23,4,\"Tapan\",True,5+8j,9.7]"
   ]
  },
  {
   "cell_type": "code",
   "execution_count": 2,
   "id": "52bd0ded-fa23-49d8-81f8-6aa422bb43f3",
   "metadata": {},
   "outputs": [
    {
     "data": {
      "text/plain": [
       "[1, 23, 4, 'Tapan', True, (5+8j), 9.7]"
      ]
     },
     "execution_count": 2,
     "metadata": {},
     "output_type": "execute_result"
    }
   ],
   "source": [
    "l"
   ]
  },
  {
   "cell_type": "code",
   "execution_count": 3,
   "id": "9c413c4b-bc79-46e8-a8bf-cc7db59dd01f",
   "metadata": {},
   "outputs": [
    {
     "data": {
      "text/plain": [
       "list"
      ]
     },
     "execution_count": 3,
     "metadata": {},
     "output_type": "execute_result"
    }
   ],
   "source": [
    "type(l)"
   ]
  },
  {
   "cell_type": "code",
   "execution_count": 4,
   "id": "a1d3f11e-398a-4ec1-9553-8efcebd42fbf",
   "metadata": {},
   "outputs": [
    {
     "data": {
      "text/plain": [
       "1"
      ]
     },
     "execution_count": 4,
     "metadata": {},
     "output_type": "execute_result"
    }
   ],
   "source": [
    "l[0]"
   ]
  },
  {
   "cell_type": "code",
   "execution_count": 5,
   "id": "082d7f27-149b-42bf-8448-aa08926e2853",
   "metadata": {},
   "outputs": [
    {
     "data": {
      "text/plain": [
       "23"
      ]
     },
     "execution_count": 5,
     "metadata": {},
     "output_type": "execute_result"
    }
   ],
   "source": [
    "l[1]"
   ]
  },
  {
   "cell_type": "code",
   "execution_count": 6,
   "id": "7513bd10-c6bd-4323-a832-4fced4cca0a9",
   "metadata": {},
   "outputs": [
    {
     "data": {
      "text/plain": [
       "9.7"
      ]
     },
     "execution_count": 6,
     "metadata": {},
     "output_type": "execute_result"
    }
   ],
   "source": [
    "l[6]"
   ]
  },
  {
   "cell_type": "code",
   "execution_count": 7,
   "id": "0a6c5649-8c87-4ae0-8534-02a6613a6ffb",
   "metadata": {},
   "outputs": [
    {
     "data": {
      "text/plain": [
       "[1, 23, 4, 'Tapan']"
      ]
     },
     "execution_count": 7,
     "metadata": {},
     "output_type": "execute_result"
    }
   ],
   "source": [
    "l[0:4]"
   ]
  },
  {
   "cell_type": "code",
   "execution_count": 8,
   "id": "373dfb1e-96bb-4635-a519-7229b8b12fec",
   "metadata": {},
   "outputs": [
    {
     "data": {
      "text/plain": [
       "9.7"
      ]
     },
     "execution_count": 8,
     "metadata": {},
     "output_type": "execute_result"
    }
   ],
   "source": [
    "l[-1]"
   ]
  },
  {
   "cell_type": "code",
   "execution_count": 9,
   "id": "eb58dcd5-8952-4aa4-a7e0-c3ccfa5eef1f",
   "metadata": {},
   "outputs": [
    {
     "data": {
      "text/plain": [
       "[9.7, (5+8j), True, 'Tapan', 4, 23, 1]"
      ]
     },
     "execution_count": 9,
     "metadata": {},
     "output_type": "execute_result"
    }
   ],
   "source": [
    "l[::-1]"
   ]
  },
  {
   "cell_type": "code",
   "execution_count": 10,
   "id": "6a2f9e3c-9d54-4db2-b483-d1f4431a67a9",
   "metadata": {},
   "outputs": [
    {
     "data": {
      "text/plain": [
       "[1, 4, True, 9.7]"
      ]
     },
     "execution_count": 10,
     "metadata": {},
     "output_type": "execute_result"
    }
   ],
   "source": [
    "l[0:8:2]"
   ]
  },
  {
   "cell_type": "code",
   "execution_count": 11,
   "id": "e34e8c42-be86-4a9f-a3ee-8145052c3b1d",
   "metadata": {},
   "outputs": [
    {
     "data": {
      "text/plain": [
       "[1, 4, True, 9.7]"
      ]
     },
     "execution_count": 11,
     "metadata": {},
     "output_type": "execute_result"
    }
   ],
   "source": [
    "l[::2]"
   ]
  },
  {
   "cell_type": "code",
   "execution_count": 12,
   "id": "c7caffa3-e5f0-481b-aad7-cf2cba11140a",
   "metadata": {},
   "outputs": [
    {
     "data": {
      "text/plain": [
       "[1, 23, 4, 'Tapan', True, (5+8j), 9.7]"
      ]
     },
     "execution_count": 12,
     "metadata": {},
     "output_type": "execute_result"
    }
   ],
   "source": [
    "l"
   ]
  },
  {
   "cell_type": "code",
   "execution_count": 13,
   "id": "4305fac7-2694-4f7a-9dda-eedf3f5a419a",
   "metadata": {},
   "outputs": [
    {
     "ename": "TypeError",
     "evalue": "can only concatenate list (not \"str\") to list",
     "output_type": "error",
     "traceback": [
      "\u001b[0;31m---------------------------------------------------------------------------\u001b[0m",
      "\u001b[0;31mTypeError\u001b[0m                                 Traceback (most recent call last)",
      "Cell \u001b[0;32mIn[13], line 1\u001b[0m\n\u001b[0;32m----> 1\u001b[0m \u001b[43ml\u001b[49m\u001b[38;5;241;43m+\u001b[39;49m\u001b[38;5;124;43m\"\u001b[39;49m\u001b[38;5;124;43ms\u001b[39;49m\u001b[38;5;124;43m\"\u001b[39;49m\n",
      "\u001b[0;31mTypeError\u001b[0m: can only concatenate list (not \"str\") to list"
     ]
    }
   ],
   "source": [
    "l+\"s\""
   ]
  },
  {
   "cell_type": "code",
   "execution_count": 15,
   "id": "92c76191-9247-43b5-a409-6e649fa7ab86",
   "metadata": {},
   "outputs": [
    {
     "ename": "AttributeError",
     "evalue": "'list' object has no attribute 'lappend'",
     "output_type": "error",
     "traceback": [
      "\u001b[0;31m---------------------------------------------------------------------------\u001b[0m",
      "\u001b[0;31mAttributeError\u001b[0m                            Traceback (most recent call last)",
      "Cell \u001b[0;32mIn[15], line 1\u001b[0m\n\u001b[0;32m----> 1\u001b[0m \u001b[43ml\u001b[49m\u001b[38;5;241;43m.\u001b[39;49m\u001b[43mlappend\u001b[49m(s)\n",
      "\u001b[0;31mAttributeError\u001b[0m: 'list' object has no attribute 'lappend'"
     ]
    }
   ],
   "source": [
    "l.lappend(s)"
   ]
  },
  {
   "cell_type": "code",
   "execution_count": 16,
   "id": "fb7386f4-ca83-40c0-a087-749628d03861",
   "metadata": {},
   "outputs": [
    {
     "data": {
      "text/plain": [
       "[1, 23, 4, 'Tapan', True, (5+8j), 9.7]"
      ]
     },
     "execution_count": 16,
     "metadata": {},
     "output_type": "execute_result"
    }
   ],
   "source": [
    "l"
   ]
  },
  {
   "cell_type": "code",
   "execution_count": 17,
   "id": "8f5d658c-1040-49f1-9986-c44c03655a53",
   "metadata": {},
   "outputs": [
    {
     "data": {
      "text/plain": [
       "'Tapan'"
      ]
     },
     "execution_count": 17,
     "metadata": {},
     "output_type": "execute_result"
    }
   ],
   "source": [
    "l[3]"
   ]
  },
  {
   "cell_type": "code",
   "execution_count": 18,
   "id": "b585833f-4cbf-4e53-bd96-24f3367298cd",
   "metadata": {},
   "outputs": [
    {
     "data": {
      "text/plain": [
       "'Ta'"
      ]
     },
     "execution_count": 18,
     "metadata": {},
     "output_type": "execute_result"
    }
   ],
   "source": [
    "l[3][0:2]"
   ]
  },
  {
   "cell_type": "code",
   "execution_count": 19,
   "id": "6b87d80c-be23-454c-b827-cc0766c0292b",
   "metadata": {},
   "outputs": [
    {
     "ename": "TypeError",
     "evalue": "'bool' object is not subscriptable",
     "output_type": "error",
     "traceback": [
      "\u001b[0;31m---------------------------------------------------------------------------\u001b[0m",
      "\u001b[0;31mTypeError\u001b[0m                                 Traceback (most recent call last)",
      "Cell \u001b[0;32mIn[19], line 1\u001b[0m\n\u001b[0;32m----> 1\u001b[0m \u001b[43ml\u001b[49m\u001b[43m[\u001b[49m\u001b[38;5;241;43m4\u001b[39;49m\u001b[43m]\u001b[49m\u001b[43m[\u001b[49m\u001b[38;5;241;43m0\u001b[39;49m\u001b[43m:\u001b[49m\u001b[38;5;241;43m2\u001b[39;49m\u001b[43m]\u001b[49m\n",
      "\u001b[0;31mTypeError\u001b[0m: 'bool' object is not subscriptable"
     ]
    }
   ],
   "source": [
    "l[4][0:2]"
   ]
  },
  {
   "cell_type": "code",
   "execution_count": 20,
   "id": "f2f222d3-41d8-444f-862b-66d6e94ed341",
   "metadata": {},
   "outputs": [
    {
     "ename": "TypeError",
     "evalue": "'bool' object is not subscriptable",
     "output_type": "error",
     "traceback": [
      "\u001b[0;31m---------------------------------------------------------------------------\u001b[0m",
      "\u001b[0;31mTypeError\u001b[0m                                 Traceback (most recent call last)",
      "Cell \u001b[0;32mIn[20], line 1\u001b[0m\n\u001b[0;32m----> 1\u001b[0m \u001b[38;5;28mstr\u001b[39m(\u001b[43ml\u001b[49m\u001b[43m[\u001b[49m\u001b[38;5;241;43m4\u001b[39;49m\u001b[43m]\u001b[49m\u001b[43m[\u001b[49m\u001b[38;5;241;43m0\u001b[39;49m\u001b[43m:\u001b[49m\u001b[38;5;241;43m2\u001b[39;49m\u001b[43m]\u001b[49m)\n",
      "\u001b[0;31mTypeError\u001b[0m: 'bool' object is not subscriptable"
     ]
    }
   ],
   "source": [
    "str(l[4][0:2])"
   ]
  },
  {
   "cell_type": "code",
   "execution_count": 21,
   "id": "46889cbc-758e-4390-9866-86fb7c07b977",
   "metadata": {},
   "outputs": [
    {
     "data": {
      "text/plain": [
       "'Tr'"
      ]
     },
     "execution_count": 21,
     "metadata": {},
     "output_type": "execute_result"
    }
   ],
   "source": [
    "str(l[4])[0:2]"
   ]
  },
  {
   "cell_type": "code",
   "execution_count": 22,
   "id": "633adea9-9e05-48f4-abc7-c603baa1b5db",
   "metadata": {},
   "outputs": [
    {
     "data": {
      "text/plain": [
       "[1, 23, 4, 'Tapan', True, (5+8j), 9.7]"
      ]
     },
     "execution_count": 22,
     "metadata": {},
     "output_type": "execute_result"
    }
   ],
   "source": [
    "l"
   ]
  },
  {
   "cell_type": "code",
   "execution_count": 23,
   "id": "d2481b9c-4599-4552-b2cf-d98536360df1",
   "metadata": {},
   "outputs": [],
   "source": [
    "l1=[5,6,7]"
   ]
  },
  {
   "cell_type": "code",
   "execution_count": 24,
   "id": "0fca4735-72d4-4ae5-b362-3ce54a0c279c",
   "metadata": {},
   "outputs": [
    {
     "data": {
      "text/plain": [
       "[1, 23, 4, 'Tapan', True, (5+8j), 9.7, 5, 6, 7]"
      ]
     },
     "execution_count": 24,
     "metadata": {},
     "output_type": "execute_result"
    }
   ],
   "source": [
    "l+l1"
   ]
  },
  {
   "cell_type": "code",
   "execution_count": 25,
   "id": "b9ce1f8f-1156-46db-a87b-d2f2098b0dfb",
   "metadata": {},
   "outputs": [
    {
     "data": {
      "text/plain": [
       "[5, 6, 7, 5, 6, 7, 5, 6, 7]"
      ]
     },
     "execution_count": 25,
     "metadata": {},
     "output_type": "execute_result"
    }
   ],
   "source": [
    "l1*3"
   ]
  },
  {
   "cell_type": "code",
   "execution_count": 26,
   "id": "413c0baa-44f8-4d0f-a0ca-3cd220508763",
   "metadata": {},
   "outputs": [
    {
     "data": {
      "text/plain": [
       "[1, 23, 4, 'Tapan', True, (5+8j), 9.7]"
      ]
     },
     "execution_count": 26,
     "metadata": {},
     "output_type": "execute_result"
    }
   ],
   "source": [
    "l"
   ]
  },
  {
   "cell_type": "code",
   "execution_count": 27,
   "id": "5cc22f86-1786-4d99-9e77-899740ae4ea6",
   "metadata": {},
   "outputs": [
    {
     "data": {
      "text/plain": [
       "3"
      ]
     },
     "execution_count": 27,
     "metadata": {},
     "output_type": "execute_result"
    }
   ],
   "source": [
    "len(l1)"
   ]
  },
  {
   "cell_type": "code",
   "execution_count": 28,
   "id": "444fd4a5-575c-49b2-8ef0-7becf69a4b03",
   "metadata": {},
   "outputs": [
    {
     "data": {
      "text/plain": [
       "7"
      ]
     },
     "execution_count": 28,
     "metadata": {},
     "output_type": "execute_result"
    }
   ],
   "source": [
    "len(l)"
   ]
  },
  {
   "cell_type": "code",
   "execution_count": 29,
   "id": "5a17f3fb-b48f-452f-b4aa-200af3caf031",
   "metadata": {},
   "outputs": [
    {
     "data": {
      "text/plain": [
       "[1, 23, 4, 'Tapan', True, (5+8j), 9.7]"
      ]
     },
     "execution_count": 29,
     "metadata": {},
     "output_type": "execute_result"
    }
   ],
   "source": [
    "l"
   ]
  },
  {
   "cell_type": "code",
   "execution_count": 30,
   "id": "2184ce93-2175-4c9f-84b0-ea96dce1f248",
   "metadata": {},
   "outputs": [],
   "source": [
    "l.append(5)"
   ]
  },
  {
   "cell_type": "code",
   "execution_count": 31,
   "id": "0093dff0-002e-4a97-8c22-0c78ecc03b0f",
   "metadata": {},
   "outputs": [
    {
     "data": {
      "text/plain": [
       "[1, 23, 4, 'Tapan', True, (5+8j), 9.7, 5]"
      ]
     },
     "execution_count": 31,
     "metadata": {},
     "output_type": "execute_result"
    }
   ],
   "source": [
    "l"
   ]
  },
  {
   "cell_type": "code",
   "execution_count": 32,
   "id": "db9998b2-b239-4512-9f68-821bae016eee",
   "metadata": {},
   "outputs": [
    {
     "data": {
      "text/plain": [
       "1"
      ]
     },
     "execution_count": 32,
     "metadata": {},
     "output_type": "execute_result"
    }
   ],
   "source": [
    "l.count(4)"
   ]
  },
  {
   "cell_type": "code",
   "execution_count": 33,
   "id": "2601b86a-67dc-47f9-8809-2a96000fa274",
   "metadata": {},
   "outputs": [
    {
     "data": {
      "text/plain": [
       "[1, 23, 4, 'Tapan', True, (5+8j), 9.7, 5]"
      ]
     },
     "execution_count": 33,
     "metadata": {},
     "output_type": "execute_result"
    }
   ],
   "source": [
    "l"
   ]
  },
  {
   "cell_type": "code",
   "execution_count": 34,
   "id": "7e21dfc6-979e-4d07-9039-37ec5b589281",
   "metadata": {},
   "outputs": [],
   "source": [
    "l.reverse()"
   ]
  },
  {
   "cell_type": "code",
   "execution_count": 35,
   "id": "7ef6a202-7369-4ad1-b642-0478f7bf0c72",
   "metadata": {},
   "outputs": [
    {
     "data": {
      "text/plain": [
       "[5, 9.7, (5+8j), True, 'Tapan', 4, 23, 1]"
      ]
     },
     "execution_count": 35,
     "metadata": {},
     "output_type": "execute_result"
    }
   ],
   "source": [
    "l"
   ]
  },
  {
   "cell_type": "code",
   "execution_count": 36,
   "id": "3672d239-c778-456a-a1a9-90d51281bc8c",
   "metadata": {},
   "outputs": [
    {
     "data": {
      "text/plain": [
       "[5, 9.7, (5+8j), True, 'Tapan', 4, 23, 1]"
      ]
     },
     "execution_count": 36,
     "metadata": {},
     "output_type": "execute_result"
    }
   ],
   "source": [
    "l"
   ]
  },
  {
   "cell_type": "code",
   "execution_count": 37,
   "id": "acb7cd4c-2e3c-4822-b7f3-bd9e9a0001b9",
   "metadata": {},
   "outputs": [
    {
     "data": {
      "text/plain": [
       "4"
      ]
     },
     "execution_count": 37,
     "metadata": {},
     "output_type": "execute_result"
    }
   ],
   "source": [
    "l.pop(5)"
   ]
  },
  {
   "cell_type": "code",
   "execution_count": 38,
   "id": "6f56f358-b72c-46e5-ac4c-e3d944bffa7a",
   "metadata": {},
   "outputs": [
    {
     "ename": "TypeError",
     "evalue": "insert expected 2 arguments, got 1",
     "output_type": "error",
     "traceback": [
      "\u001b[0;31m---------------------------------------------------------------------------\u001b[0m",
      "\u001b[0;31mTypeError\u001b[0m                                 Traceback (most recent call last)",
      "Cell \u001b[0;32mIn[38], line 1\u001b[0m\n\u001b[0;32m----> 1\u001b[0m \u001b[43ml\u001b[49m\u001b[38;5;241;43m.\u001b[39;49m\u001b[43minsert\u001b[49m\u001b[43m(\u001b[49m\u001b[38;5;241;43m2\u001b[39;49m\u001b[43m)\u001b[49m\n",
      "\u001b[0;31mTypeError\u001b[0m: insert expected 2 arguments, got 1"
     ]
    }
   ],
   "source": [
    "l.insert(2)"
   ]
  },
  {
   "cell_type": "code",
   "execution_count": 39,
   "id": "ca34f59b-a934-4364-98eb-5189327f56b9",
   "metadata": {},
   "outputs": [
    {
     "ename": "NameError",
     "evalue": "name 's' is not defined",
     "output_type": "error",
     "traceback": [
      "\u001b[0;31m---------------------------------------------------------------------------\u001b[0m",
      "\u001b[0;31mNameError\u001b[0m                                 Traceback (most recent call last)",
      "Cell \u001b[0;32mIn[39], line 1\u001b[0m\n\u001b[0;32m----> 1\u001b[0m \u001b[43ms\u001b[49m\n",
      "\u001b[0;31mNameError\u001b[0m: name 's' is not defined"
     ]
    }
   ],
   "source": [
    "s"
   ]
  },
  {
   "cell_type": "code",
   "execution_count": 40,
   "id": "4e39df15-f8c2-457a-ae3d-0115c6716686",
   "metadata": {},
   "outputs": [],
   "source": [
    "s=\"pwskills\""
   ]
  },
  {
   "cell_type": "code",
   "execution_count": 41,
   "id": "3c203100-665d-41a9-a402-3e4fe6126312",
   "metadata": {},
   "outputs": [],
   "source": [
    "l.append(s)"
   ]
  },
  {
   "cell_type": "code",
   "execution_count": 42,
   "id": "dfe9d1ba-40e7-4650-9793-4dcd1d068f2d",
   "metadata": {},
   "outputs": [
    {
     "data": {
      "text/plain": [
       "[5, 9.7, (5+8j), True, 'Tapan', 23, 1, 'pwskills']"
      ]
     },
     "execution_count": 42,
     "metadata": {},
     "output_type": "execute_result"
    }
   ],
   "source": [
    "l"
   ]
  },
  {
   "cell_type": "code",
   "execution_count": 43,
   "id": "e48db5c1-ad6a-4a0b-a75a-5bd878c5a27b",
   "metadata": {},
   "outputs": [],
   "source": [
    "l.append(l1)"
   ]
  },
  {
   "cell_type": "code",
   "execution_count": 44,
   "id": "97547c78-27ea-4b56-95f4-4bf95b726dfc",
   "metadata": {},
   "outputs": [
    {
     "data": {
      "text/plain": [
       "[5, 9.7, (5+8j), True, 'Tapan', 23, 1, 'pwskills', [5, 6, 7]]"
      ]
     },
     "execution_count": 44,
     "metadata": {},
     "output_type": "execute_result"
    }
   ],
   "source": [
    "l"
   ]
  },
  {
   "cell_type": "code",
   "execution_count": 45,
   "id": "4912145d-5234-43c5-bc99-a4c46cb0a66a",
   "metadata": {},
   "outputs": [
    {
     "data": {
      "text/plain": [
       "[5, 9.7, (5+8j), True, 'Tapan', 23, 1, 'pwskills', [5, 6, 7]]"
      ]
     },
     "execution_count": 45,
     "metadata": {},
     "output_type": "execute_result"
    }
   ],
   "source": [
    "l"
   ]
  },
  {
   "cell_type": "code",
   "execution_count": 46,
   "id": "2df96fcd-081a-48fa-81d8-34a195879583",
   "metadata": {},
   "outputs": [
    {
     "data": {
      "text/plain": [
       "[5, 6, 7]"
      ]
     },
     "execution_count": 46,
     "metadata": {},
     "output_type": "execute_result"
    }
   ],
   "source": [
    "l[-1]"
   ]
  },
  {
   "cell_type": "code",
   "execution_count": 47,
   "id": "901d6dde-9cb1-4c2a-b82a-74fb3425bb0e",
   "metadata": {},
   "outputs": [
    {
     "data": {
      "text/plain": [
       "6"
      ]
     },
     "execution_count": 47,
     "metadata": {},
     "output_type": "execute_result"
    }
   ],
   "source": [
    "l[-1][1]"
   ]
  },
  {
   "cell_type": "code",
   "execution_count": 48,
   "id": "44ddecb9-d5a6-431a-9c8b-47bfbff9ebe0",
   "metadata": {},
   "outputs": [
    {
     "data": {
      "text/plain": [
       "[5, 9.7, (5+8j), True, 'Tapan', 23, 1, 'pwskills', [5, 6, 7]]"
      ]
     },
     "execution_count": 48,
     "metadata": {},
     "output_type": "execute_result"
    }
   ],
   "source": [
    "l"
   ]
  },
  {
   "cell_type": "code",
   "execution_count": 49,
   "id": "6266699c-9340-4c9b-8121-9e66c9e23567",
   "metadata": {},
   "outputs": [
    {
     "ename": "TypeError",
     "evalue": "'int' object is not iterable",
     "output_type": "error",
     "traceback": [
      "\u001b[0;31m---------------------------------------------------------------------------\u001b[0m",
      "\u001b[0;31mTypeError\u001b[0m                                 Traceback (most recent call last)",
      "Cell \u001b[0;32mIn[49], line 1\u001b[0m\n\u001b[0;32m----> 1\u001b[0m \u001b[43ml\u001b[49m\u001b[38;5;241;43m.\u001b[39;49m\u001b[43mextend\u001b[49m\u001b[43m(\u001b[49m\u001b[38;5;241;43m5\u001b[39;49m\u001b[43m)\u001b[49m\n",
      "\u001b[0;31mTypeError\u001b[0m: 'int' object is not iterable"
     ]
    }
   ],
   "source": [
    "l.extend(5)"
   ]
  },
  {
   "cell_type": "code",
   "execution_count": 50,
   "id": "574e3e7f-d708-423e-b4be-56df48668169",
   "metadata": {},
   "outputs": [
    {
     "ename": "NameError",
     "evalue": "name 'Tapan' is not defined",
     "output_type": "error",
     "traceback": [
      "\u001b[0;31m---------------------------------------------------------------------------\u001b[0m",
      "\u001b[0;31mNameError\u001b[0m                                 Traceback (most recent call last)",
      "Cell \u001b[0;32mIn[50], line 1\u001b[0m\n\u001b[0;32m----> 1\u001b[0m l\u001b[38;5;241m.\u001b[39mextend(\u001b[43mTapan\u001b[49m)\n",
      "\u001b[0;31mNameError\u001b[0m: name 'Tapan' is not defined"
     ]
    }
   ],
   "source": [
    "l.extend(Tapan)"
   ]
  },
  {
   "cell_type": "code",
   "execution_count": 51,
   "id": "65a086a1-32c6-4651-a95a-a10aa9bf1046",
   "metadata": {},
   "outputs": [],
   "source": [
    "l.extend(\"Tapan\")"
   ]
  },
  {
   "cell_type": "code",
   "execution_count": 52,
   "id": "66eef82a-4e7e-4c6b-af55-64bcee80f15d",
   "metadata": {},
   "outputs": [
    {
     "data": {
      "text/plain": [
       "[5,\n",
       " 9.7,\n",
       " (5+8j),\n",
       " True,\n",
       " 'Tapan',\n",
       " 23,\n",
       " 1,\n",
       " 'pwskills',\n",
       " [5, 6, 7],\n",
       " 'T',\n",
       " 'a',\n",
       " 'p',\n",
       " 'a',\n",
       " 'n']"
      ]
     },
     "execution_count": 52,
     "metadata": {},
     "output_type": "execute_result"
    }
   ],
   "source": [
    "l"
   ]
  },
  {
   "cell_type": "code",
   "execution_count": 53,
   "id": "ab3160bf-6d98-489d-bf2f-fe03a6ee27c6",
   "metadata": {},
   "outputs": [],
   "source": [
    "l.extend([5,6,7])"
   ]
  },
  {
   "cell_type": "code",
   "execution_count": 54,
   "id": "659096a1-2c3f-46ed-b2c6-4f1c6f927765",
   "metadata": {},
   "outputs": [
    {
     "data": {
      "text/plain": [
       "[5,\n",
       " 9.7,\n",
       " (5+8j),\n",
       " True,\n",
       " 'Tapan',\n",
       " 23,\n",
       " 1,\n",
       " 'pwskills',\n",
       " [5, 6, 7],\n",
       " 'T',\n",
       " 'a',\n",
       " 'p',\n",
       " 'a',\n",
       " 'n',\n",
       " 5,\n",
       " 6,\n",
       " 7]"
      ]
     },
     "execution_count": 54,
     "metadata": {},
     "output_type": "execute_result"
    }
   ],
   "source": [
    "l"
   ]
  },
  {
   "cell_type": "code",
   "execution_count": 55,
   "id": "80d2d6be-b5f7-4d6b-9969-23cd0c2fb4dd",
   "metadata": {},
   "outputs": [
    {
     "data": {
      "text/plain": [
       "[5, 6, 7]"
      ]
     },
     "execution_count": 55,
     "metadata": {},
     "output_type": "execute_result"
    }
   ],
   "source": [
    "l1"
   ]
  },
  {
   "cell_type": "code",
   "execution_count": 56,
   "id": "a5c5a40f-e007-4082-bc04-ef3327c836e1",
   "metadata": {},
   "outputs": [],
   "source": [
    "l1.append(8)"
   ]
  },
  {
   "cell_type": "code",
   "execution_count": 57,
   "id": "421162a6-5a12-4e0f-bc22-481b68cde592",
   "metadata": {},
   "outputs": [
    {
     "data": {
      "text/plain": [
       "[5, 6, 7, 8]"
      ]
     },
     "execution_count": 57,
     "metadata": {},
     "output_type": "execute_result"
    }
   ],
   "source": [
    "l1"
   ]
  },
  {
   "cell_type": "code",
   "execution_count": 58,
   "id": "a5c725f7-cf8d-4a5b-94ae-5409787838b1",
   "metadata": {},
   "outputs": [
    {
     "ename": "SyntaxError",
     "evalue": "invalid syntax (3103712580.py, line 1)",
     "output_type": "error",
     "traceback": [
      "\u001b[0;36m  Cell \u001b[0;32mIn[58], line 1\u001b[0;36m\u001b[0m\n\u001b[0;31m    l1.insert(1;\"Pati\")\u001b[0m\n\u001b[0m               ^\u001b[0m\n\u001b[0;31mSyntaxError\u001b[0m\u001b[0;31m:\u001b[0m invalid syntax\n"
     ]
    }
   ],
   "source": [
    "l1.insert(1;\"Pati\")"
   ]
  },
  {
   "cell_type": "code",
   "execution_count": 59,
   "id": "8b31fdf9-18ca-4e0f-994f-ad6bb5c626cb",
   "metadata": {},
   "outputs": [],
   "source": [
    "l1.insert(1,\"pati\")"
   ]
  },
  {
   "cell_type": "code",
   "execution_count": 60,
   "id": "39540b15-6d9c-4b08-9175-e2df25a9aaa7",
   "metadata": {},
   "outputs": [
    {
     "data": {
      "text/plain": [
       "[5, 'pati', 6, 7, 8]"
      ]
     },
     "execution_count": 60,
     "metadata": {},
     "output_type": "execute_result"
    }
   ],
   "source": [
    "l1"
   ]
  },
  {
   "cell_type": "code",
   "execution_count": 61,
   "id": "a0cb37c1-f495-49b9-bfe0-0748f449715d",
   "metadata": {},
   "outputs": [],
   "source": [
    "l1.insert(2,[2,3,4])"
   ]
  },
  {
   "cell_type": "code",
   "execution_count": 62,
   "id": "1d77cc71-2b4c-4f77-842e-9a869396f387",
   "metadata": {},
   "outputs": [
    {
     "data": {
      "text/plain": [
       "[5, 'pati', [2, 3, 4], 6, 7, 8]"
      ]
     },
     "execution_count": 62,
     "metadata": {},
     "output_type": "execute_result"
    }
   ],
   "source": [
    "l1"
   ]
  },
  {
   "cell_type": "code",
   "execution_count": 63,
   "id": "afbd5fc2-ed95-4c05-8aed-37a7692be45b",
   "metadata": {},
   "outputs": [
    {
     "data": {
      "text/plain": [
       "[5, 'pati', [2, 3, 4], 6, 7, 8]"
      ]
     },
     "execution_count": 63,
     "metadata": {},
     "output_type": "execute_result"
    }
   ],
   "source": [
    "l1"
   ]
  },
  {
   "cell_type": "code",
   "execution_count": 64,
   "id": "7ed70864-8098-48a1-ba96-265ea275254a",
   "metadata": {},
   "outputs": [],
   "source": [
    "l1.insert(-1,45)"
   ]
  },
  {
   "cell_type": "code",
   "execution_count": 65,
   "id": "48cde6ce-7ba6-47a9-9d95-e016f8b0de56",
   "metadata": {},
   "outputs": [
    {
     "data": {
      "text/plain": [
       "[5, 'pati', [2, 3, 4], 6, 7, 45, 8]"
      ]
     },
     "execution_count": 65,
     "metadata": {},
     "output_type": "execute_result"
    }
   ],
   "source": [
    "l1"
   ]
  },
  {
   "cell_type": "code",
   "execution_count": 66,
   "id": "e103a1d7-68fb-452e-b432-efbc67752d74",
   "metadata": {},
   "outputs": [],
   "source": [
    "l1.remove(5)"
   ]
  },
  {
   "cell_type": "code",
   "execution_count": 67,
   "id": "b013bae0-b3e0-47c4-af2d-d1b7b30874b9",
   "metadata": {},
   "outputs": [
    {
     "data": {
      "text/plain": [
       "['pati', [2, 3, 4], 6, 7, 45, 8]"
      ]
     },
     "execution_count": 67,
     "metadata": {},
     "output_type": "execute_result"
    }
   ],
   "source": [
    "l1"
   ]
  },
  {
   "cell_type": "code",
   "execution_count": 68,
   "id": "fc677cd4-07ea-4234-b12d-990cb02d741c",
   "metadata": {},
   "outputs": [
    {
     "data": {
      "text/plain": [
       "8"
      ]
     },
     "execution_count": 68,
     "metadata": {},
     "output_type": "execute_result"
    }
   ],
   "source": [
    "l1.pop()"
   ]
  },
  {
   "cell_type": "code",
   "execution_count": 69,
   "id": "24c4cf67-3d88-4f50-8bd9-fcea0047de83",
   "metadata": {},
   "outputs": [
    {
     "data": {
      "text/plain": [
       "['pati', [2, 3, 4], 6, 7, 45]"
      ]
     },
     "execution_count": 69,
     "metadata": {},
     "output_type": "execute_result"
    }
   ],
   "source": [
    "l1"
   ]
  },
  {
   "cell_type": "code",
   "execution_count": 70,
   "id": "4e79b03c-31db-422d-af38-3a78a30d9aee",
   "metadata": {},
   "outputs": [
    {
     "data": {
      "text/plain": [
       "6"
      ]
     },
     "execution_count": 70,
     "metadata": {},
     "output_type": "execute_result"
    }
   ],
   "source": [
    "l1.pop(2)"
   ]
  },
  {
   "cell_type": "code",
   "execution_count": 71,
   "id": "c267a9b5-977c-4a27-978d-d75119dd4025",
   "metadata": {},
   "outputs": [
    {
     "data": {
      "text/plain": [
       "['pati', [2, 3, 4], 7, 45]"
      ]
     },
     "execution_count": 71,
     "metadata": {},
     "output_type": "execute_result"
    }
   ],
   "source": [
    "l1"
   ]
  },
  {
   "cell_type": "code",
   "execution_count": 72,
   "id": "69d682ec-b13f-4f39-a63e-b0944f4aeacd",
   "metadata": {},
   "outputs": [
    {
     "data": {
      "text/plain": [
       "['pati', [2, 3, 4], 7, 45]"
      ]
     },
     "execution_count": 72,
     "metadata": {},
     "output_type": "execute_result"
    }
   ],
   "source": [
    " l1"
   ]
  },
  {
   "cell_type": "code",
   "execution_count": 74,
   "id": "eb70c22d-c91b-4ee8-9493-038bf66f7c02",
   "metadata": {},
   "outputs": [],
   "source": [
    "l1[1].remove(3)"
   ]
  },
  {
   "cell_type": "code",
   "execution_count": null,
   "id": "e5ec2e87-bbed-4f65-9663-71ba51b60f15",
   "metadata": {},
   "outputs": [],
   "source": []
  },
  {
   "cell_type": "code",
   "execution_count": 75,
   "id": "21e022bd-dfaa-44c1-aa34-2a753dfc70f9",
   "metadata": {},
   "outputs": [
    {
     "data": {
      "text/plain": [
       "['pati', [2, 4], 7, 45]"
      ]
     },
     "execution_count": 75,
     "metadata": {},
     "output_type": "execute_result"
    }
   ],
   "source": [
    "l1"
   ]
  },
  {
   "cell_type": "code",
   "execution_count": 76,
   "id": "89423ab7-c076-4a33-8737-90a675d70921",
   "metadata": {},
   "outputs": [
    {
     "data": {
      "text/plain": [
       "'pati'"
      ]
     },
     "execution_count": 76,
     "metadata": {},
     "output_type": "execute_result"
    }
   ],
   "source": [
    "l1[0]"
   ]
  },
  {
   "cell_type": "code",
   "execution_count": 77,
   "id": "bc1b9e31-7a2d-46b5-beaa-93acd83dfcda",
   "metadata": {},
   "outputs": [],
   "source": [
    "l1.append(4)"
   ]
  },
  {
   "cell_type": "code",
   "execution_count": 78,
   "id": "cfc3e4cd-7b7d-4096-bc32-264bbc1d1c8e",
   "metadata": {},
   "outputs": [
    {
     "data": {
      "text/plain": [
       "['pati', [2, 4], 7, 45, 4]"
      ]
     },
     "execution_count": 78,
     "metadata": {},
     "output_type": "execute_result"
    }
   ],
   "source": [
    "l1"
   ]
  },
  {
   "cell_type": "code",
   "execution_count": 79,
   "id": "37bfe14e-f8eb-4cba-9e2a-a0384b28d70f",
   "metadata": {},
   "outputs": [],
   "source": [
    "l1.append(7)"
   ]
  },
  {
   "cell_type": "code",
   "execution_count": 80,
   "id": "eff55e7a-e968-422c-b291-163d44497e93",
   "metadata": {},
   "outputs": [
    {
     "data": {
      "text/plain": [
       "['pati', [2, 4], 7, 45, 4, 7]"
      ]
     },
     "execution_count": 80,
     "metadata": {},
     "output_type": "execute_result"
    }
   ],
   "source": [
    "l1"
   ]
  },
  {
   "cell_type": "code",
   "execution_count": 81,
   "id": "7cd7adc6-ada9-4116-b8e4-9ed26144a22c",
   "metadata": {},
   "outputs": [],
   "source": [
    "l1.remove(7)"
   ]
  },
  {
   "cell_type": "code",
   "execution_count": 82,
   "id": "a884b0d0-2017-402f-8ecd-2b920f0a7930",
   "metadata": {},
   "outputs": [
    {
     "data": {
      "text/plain": [
       "['pati', [2, 4], 45, 4, 7]"
      ]
     },
     "execution_count": 82,
     "metadata": {},
     "output_type": "execute_result"
    }
   ],
   "source": [
    "l1"
   ]
  },
  {
   "cell_type": "code",
   "execution_count": 83,
   "id": "1122a1f4-3e6f-4618-90fa-d105158e6589",
   "metadata": {},
   "outputs": [
    {
     "data": {
      "text/plain": [
       "['pati', [2, 4], 45, 4, 7]"
      ]
     },
     "execution_count": 83,
     "metadata": {},
     "output_type": "execute_result"
    }
   ],
   "source": [
    "l1"
   ]
  },
  {
   "cell_type": "code",
   "execution_count": 84,
   "id": "8570628e-010b-4d3a-ba0e-87703dd2b7f1",
   "metadata": {},
   "outputs": [],
   "source": [
    "l1.reverse()"
   ]
  },
  {
   "cell_type": "code",
   "execution_count": 85,
   "id": "528cd54b-6725-4958-bd84-656282889ef2",
   "metadata": {},
   "outputs": [
    {
     "data": {
      "text/plain": [
       "[7, 4, 45, [2, 4], 'pati']"
      ]
     },
     "execution_count": 85,
     "metadata": {},
     "output_type": "execute_result"
    }
   ],
   "source": [
    "l1"
   ]
  },
  {
   "cell_type": "code",
   "execution_count": 88,
   "id": "216a9a64-73d4-4001-a075-1ef97be4d04b",
   "metadata": {},
   "outputs": [],
   "source": [
    "l1=l1[::-1]"
   ]
  },
  {
   "cell_type": "code",
   "execution_count": 89,
   "id": "e42bb638-f5a8-4bbc-bfe4-5f530b362467",
   "metadata": {},
   "outputs": [
    {
     "data": {
      "text/plain": [
       "['pati', [2, 4], 45, 4, 7]"
      ]
     },
     "execution_count": 89,
     "metadata": {},
     "output_type": "execute_result"
    }
   ],
   "source": [
    " l1"
   ]
  },
  {
   "cell_type": "code",
   "execution_count": 90,
   "id": "d299b42b-0240-419d-8a8f-733b8afd24ec",
   "metadata": {},
   "outputs": [],
   "source": [
    "l2=[3,4,5,6,7,2]\n"
   ]
  },
  {
   "cell_type": "code",
   "execution_count": 91,
   "id": "15d2e1da-6f4e-4173-ae09-b4c9656f25c1",
   "metadata": {},
   "outputs": [],
   "source": [
    "l2.sort()"
   ]
  },
  {
   "cell_type": "code",
   "execution_count": 92,
   "id": "1ffed14a-1c09-4801-8261-a67c58f57d61",
   "metadata": {},
   "outputs": [
    {
     "data": {
      "text/plain": [
       "[2, 3, 4, 5, 6, 7]"
      ]
     },
     "execution_count": 92,
     "metadata": {},
     "output_type": "execute_result"
    }
   ],
   "source": [
    "l2"
   ]
  },
  {
   "cell_type": "code",
   "execution_count": 93,
   "id": "d7fe7308-9d3f-4a4f-b7b8-34d138f2f210",
   "metadata": {},
   "outputs": [],
   "source": [
    " l3=[34,\"tapan\",65,87]"
   ]
  },
  {
   "cell_type": "code",
   "execution_count": 94,
   "id": "75da591d-f4b3-4085-9f94-b929d3291229",
   "metadata": {},
   "outputs": [
    {
     "ename": "TypeError",
     "evalue": "'<' not supported between instances of 'str' and 'int'",
     "output_type": "error",
     "traceback": [
      "\u001b[0;31m---------------------------------------------------------------------------\u001b[0m",
      "\u001b[0;31mTypeError\u001b[0m                                 Traceback (most recent call last)",
      "Cell \u001b[0;32mIn[94], line 1\u001b[0m\n\u001b[0;32m----> 1\u001b[0m \u001b[43ml3\u001b[49m\u001b[38;5;241;43m.\u001b[39;49m\u001b[43msort\u001b[49m\u001b[43m(\u001b[49m\u001b[43m)\u001b[49m\n",
      "\u001b[0;31mTypeError\u001b[0m: '<' not supported between instances of 'str' and 'int'"
     ]
    }
   ],
   "source": [
    "l3.sort()"
   ]
  },
  {
   "cell_type": "code",
   "execution_count": 95,
   "id": "23d68792-9992-4ca4-85c0-ea056ae91a75",
   "metadata": {},
   "outputs": [],
   "source": [
    "l4=[\"tapan\",\"pati\",\"pwskills\"]"
   ]
  },
  {
   "cell_type": "code",
   "execution_count": 96,
   "id": "19196d27-85cd-476b-8a00-f819ed651c17",
   "metadata": {},
   "outputs": [],
   "source": [
    "l4.sort()"
   ]
  },
  {
   "cell_type": "code",
   "execution_count": 97,
   "id": "d5760bf2-024a-4de5-85aa-ae9c00867a79",
   "metadata": {},
   "outputs": [
    {
     "data": {
      "text/plain": [
       "['pati', 'pwskills', 'tapan']"
      ]
     },
     "execution_count": 97,
     "metadata": {},
     "output_type": "execute_result"
    }
   ],
   "source": [
    "l4"
   ]
  },
  {
   "cell_type": "code",
   "execution_count": 98,
   "id": "9b8be762-2892-4c89-97d7-55bb6e87ea42",
   "metadata": {},
   "outputs": [
    {
     "data": {
      "text/plain": [
       "['pati', 'pwskills', 'tapan']"
      ]
     },
     "execution_count": 98,
     "metadata": {},
     "output_type": "execute_result"
    }
   ],
   "source": [
    "l4"
   ]
  },
  {
   "cell_type": "code",
   "execution_count": 99,
   "id": "a014e205-99f1-45ce-8977-2f7b9d67cc80",
   "metadata": {},
   "outputs": [],
   "source": [
    "l4.sort(reverse=True)"
   ]
  },
  {
   "cell_type": "code",
   "execution_count": 100,
   "id": "9587aef0-76f4-4620-8d09-41b8aec1e420",
   "metadata": {},
   "outputs": [
    {
     "data": {
      "text/plain": [
       "['tapan', 'pwskills', 'pati']"
      ]
     },
     "execution_count": 100,
     "metadata": {},
     "output_type": "execute_result"
    }
   ],
   "source": [
    "l4"
   ]
  },
  {
   "cell_type": "code",
   "execution_count": 101,
   "id": "aec558fc-8c2f-43d9-b68d-9e71229a7667",
   "metadata": {},
   "outputs": [
    {
     "data": {
      "text/plain": [
       "['tapan', 'pwskills', 'pati']"
      ]
     },
     "execution_count": 101,
     "metadata": {},
     "output_type": "execute_result"
    }
   ],
   "source": [
    "l4"
   ]
  },
  {
   "cell_type": "code",
   "execution_count": 104,
   "id": "e467c632-82cb-4e60-8b5b-939359a17967",
   "metadata": {},
   "outputs": [
    {
     "data": {
      "text/plain": [
       "0"
      ]
     },
     "execution_count": 104,
     "metadata": {},
     "output_type": "execute_result"
    }
   ],
   "source": [
    "l4.index(\"tapan\")"
   ]
  },
  {
   "cell_type": "code",
   "execution_count": 105,
   "id": "384597ba-3ba5-441d-97a4-4b75cdfc8e4f",
   "metadata": {},
   "outputs": [],
   "source": [
    " s=\"tapan\""
   ]
  },
  {
   "cell_type": "code",
   "execution_count": 106,
   "id": "dec5365a-478a-45f9-9841-87c27495bb42",
   "metadata": {},
   "outputs": [],
   "source": [
    "l5=[3,4,5,6]"
   ]
  },
  {
   "cell_type": "code",
   "execution_count": 108,
   "id": "a944aed1-bad1-4a4d-b0ec-a4862a3e75b7",
   "metadata": {},
   "outputs": [
    {
     "ename": "TypeError",
     "evalue": "'str' object does not support item assignment",
     "output_type": "error",
     "traceback": [
      "\u001b[0;31m---------------------------------------------------------------------------\u001b[0m",
      "\u001b[0;31mTypeError\u001b[0m                                 Traceback (most recent call last)",
      "Cell \u001b[0;32mIn[108], line 1\u001b[0m\n\u001b[0;32m----> 1\u001b[0m \u001b[43ms\u001b[49m\u001b[43m[\u001b[49m\u001b[38;5;241;43m0\u001b[39;49m\u001b[43m]\u001b[49m\u001b[38;5;241m=\u001b[39m\u001b[38;5;124m\"\u001b[39m\u001b[38;5;124ma\u001b[39m\u001b[38;5;124m\"\u001b[39m\n",
      "\u001b[0;31mTypeError\u001b[0m: 'str' object does not support item assignment"
     ]
    }
   ],
   "source": [
    "s[0]=\"a\""
   ]
  },
  {
   "cell_type": "code",
   "execution_count": 109,
   "id": "d8149b66-514d-479c-a496-8f99d02d4a41",
   "metadata": {},
   "outputs": [
    {
     "data": {
      "text/plain": [
       "3"
      ]
     },
     "execution_count": 109,
     "metadata": {},
     "output_type": "execute_result"
    }
   ],
   "source": [
    "l5[0]"
   ]
  },
  {
   "cell_type": "code",
   "execution_count": 110,
   "id": "19a72988-8873-44c4-a1db-989a46636fd1",
   "metadata": {},
   "outputs": [],
   "source": [
    "l5[0]=8"
   ]
  },
  {
   "cell_type": "code",
   "execution_count": 111,
   "id": "a43fb6a6-45e2-41ab-bc3b-d85987939cd9",
   "metadata": {},
   "outputs": [
    {
     "data": {
      "text/plain": [
       "[8, 4, 5, 6]"
      ]
     },
     "execution_count": 111,
     "metadata": {},
     "output_type": "execute_result"
    }
   ],
   "source": [
    "l5"
   ]
  },
  {
   "cell_type": "code",
   "execution_count": 112,
   "id": "ca0b79cf-a845-4a9f-bc40-47b59c168f31",
   "metadata": {},
   "outputs": [
    {
     "data": {
      "text/plain": [
       "'tapu'"
      ]
     },
     "execution_count": 112,
     "metadata": {},
     "output_type": "execute_result"
    }
   ],
   "source": [
    "s.replace(\"an\",\"u\")"
   ]
  },
  {
   "cell_type": "code",
   "execution_count": 113,
   "id": "bdecf0b7-f338-43db-b61f-32614960a4fb",
   "metadata": {},
   "outputs": [
    {
     "data": {
      "text/plain": [
       "'tapan'"
      ]
     },
     "execution_count": 113,
     "metadata": {},
     "output_type": "execute_result"
    }
   ],
   "source": [
    "s"
   ]
  },
  {
   "cell_type": "code",
   "execution_count": 116,
   "id": "08872d04-ff62-422e-86ad-fddc7d01c4ca",
   "metadata": {},
   "outputs": [],
   "source": [
    "t=(2,3,4,5,5,6,6,7,7,\"lulu\",True,[76,87,98])"
   ]
  },
  {
   "cell_type": "code",
   "execution_count": 117,
   "id": "b2e8a18f-f0a2-45b5-a411-83bfcdeae3e8",
   "metadata": {},
   "outputs": [
    {
     "data": {
      "text/plain": [
       "(2, 3, 4, 5, 5, 6, 6, 7, 7, 'lulu', True, [76, 87, 98])"
      ]
     },
     "execution_count": 117,
     "metadata": {},
     "output_type": "execute_result"
    }
   ],
   "source": [
    "t"
   ]
  },
  {
   "cell_type": "code",
   "execution_count": 118,
   "id": "e3c23e72-23e6-4aa5-8cf8-747bd261ba01",
   "metadata": {},
   "outputs": [
    {
     "data": {
      "text/plain": [
       "tuple"
      ]
     },
     "execution_count": 118,
     "metadata": {},
     "output_type": "execute_result"
    }
   ],
   "source": [
    "type(t)"
   ]
  },
  {
   "cell_type": "code",
   "execution_count": 119,
   "id": "1d29f0cd-a28c-47da-964a-3549f692f377",
   "metadata": {},
   "outputs": [
    {
     "data": {
      "text/plain": [
       "12"
      ]
     },
     "execution_count": 119,
     "metadata": {},
     "output_type": "execute_result"
    }
   ],
   "source": [
    "len(t)"
   ]
  },
  {
   "cell_type": "code",
   "execution_count": 120,
   "id": "7a8e1276-3c55-43d9-aea5-17f192dc2a4d",
   "metadata": {},
   "outputs": [
    {
     "data": {
      "text/plain": [
       "2"
      ]
     },
     "execution_count": 120,
     "metadata": {},
     "output_type": "execute_result"
    }
   ],
   "source": [
    "t[0]"
   ]
  },
  {
   "cell_type": "code",
   "execution_count": 121,
   "id": "97fca78f-f7ec-4947-8844-12b0fd3d7197",
   "metadata": {},
   "outputs": [
    {
     "ename": "TypeError",
     "evalue": "'tuple' object is not callable",
     "output_type": "error",
     "traceback": [
      "\u001b[0;31m---------------------------------------------------------------------------\u001b[0m",
      "\u001b[0;31mTypeError\u001b[0m                                 Traceback (most recent call last)",
      "Cell \u001b[0;32mIn[121], line 1\u001b[0m\n\u001b[0;32m----> 1\u001b[0m \u001b[43mt\u001b[49m\u001b[43m(\u001b[49m\u001b[38;5;241;43m-\u001b[39;49m\u001b[38;5;241;43m1\u001b[39;49m\u001b[43m)\u001b[49m\n",
      "\u001b[0;31mTypeError\u001b[0m: 'tuple' object is not callable"
     ]
    }
   ],
   "source": [
    "t(-1)"
   ]
  },
  {
   "cell_type": "code",
   "execution_count": 122,
   "id": "d540c7b9-a1da-4739-b216-1da02fcbeec1",
   "metadata": {},
   "outputs": [
    {
     "data": {
      "text/plain": [
       "[76, 87, 98]"
      ]
     },
     "execution_count": 122,
     "metadata": {},
     "output_type": "execute_result"
    }
   ],
   "source": [
    "t[-1]"
   ]
  },
  {
   "cell_type": "code",
   "execution_count": 123,
   "id": "65d53408-9820-40f8-9bd0-fbe52bcea273",
   "metadata": {},
   "outputs": [
    {
     "data": {
      "text/plain": [
       "(2, 3, 4, 5, 5, 6, 6, 7, 7, 'lulu', True, [76, 87, 98])"
      ]
     },
     "execution_count": 123,
     "metadata": {},
     "output_type": "execute_result"
    }
   ],
   "source": [
    "t[::]"
   ]
  },
  {
   "cell_type": "code",
   "execution_count": 124,
   "id": "cacb4608-0ca9-4b20-9552-32deca19346f",
   "metadata": {},
   "outputs": [
    {
     "data": {
      "text/plain": [
       "([76, 87, 98], True, 'lulu', 7, 7, 6, 6, 5, 5, 4, 3, 2)"
      ]
     },
     "execution_count": 124,
     "metadata": {},
     "output_type": "execute_result"
    }
   ],
   "source": [
    "t[::-1]"
   ]
  },
  {
   "cell_type": "code",
   "execution_count": 125,
   "id": "232f8c2f-feb0-4804-a925-931e6fa82530",
   "metadata": {},
   "outputs": [
    {
     "data": {
      "text/plain": [
       "(2, 3, 4, 5, 5, 6, 6, 7, 7, 'lulu', True, [76, 87, 98])"
      ]
     },
     "execution_count": 125,
     "metadata": {},
     "output_type": "execute_result"
    }
   ],
   "source": [
    "t"
   ]
  },
  {
   "cell_type": "code",
   "execution_count": 126,
   "id": "299cb116-52bd-4e1e-81cb-602d10346418",
   "metadata": {},
   "outputs": [
    {
     "data": {
      "text/plain": [
       "['tapan', 'pwskills', 'pati']"
      ]
     },
     "execution_count": 126,
     "metadata": {},
     "output_type": "execute_result"
    }
   ],
   "source": [
    "l4"
   ]
  },
  {
   "cell_type": "code",
   "execution_count": 127,
   "id": "590e225a-0f44-44a9-bdcf-3c38120db810",
   "metadata": {},
   "outputs": [],
   "source": [
    "l4[0]=8767"
   ]
  },
  {
   "cell_type": "code",
   "execution_count": 128,
   "id": "af341adf-352b-43cf-8ca9-4e53b5e25d9a",
   "metadata": {},
   "outputs": [
    {
     "data": {
      "text/plain": [
       "[8767, 'pwskills', 'pati']"
      ]
     },
     "execution_count": 128,
     "metadata": {},
     "output_type": "execute_result"
    }
   ],
   "source": [
    "l4"
   ]
  },
  {
   "cell_type": "code",
   "execution_count": 129,
   "id": "dbf043a4-3bf6-4b44-939c-1d68ed270c6f",
   "metadata": {},
   "outputs": [
    {
     "data": {
      "text/plain": [
       "(2, 3, 4, 5, 5, 6, 6, 7, 7, 'lulu', True, [76, 87, 98])"
      ]
     },
     "execution_count": 129,
     "metadata": {},
     "output_type": "execute_result"
    }
   ],
   "source": [
    "t"
   ]
  },
  {
   "cell_type": "code",
   "execution_count": 130,
   "id": "add33e8b-1420-45d4-a264-a8901ab41245",
   "metadata": {},
   "outputs": [
    {
     "ename": "TypeError",
     "evalue": "'tuple' object does not support item assignment",
     "output_type": "error",
     "traceback": [
      "\u001b[0;31m---------------------------------------------------------------------------\u001b[0m",
      "\u001b[0;31mTypeError\u001b[0m                                 Traceback (most recent call last)",
      "Cell \u001b[0;32mIn[130], line 1\u001b[0m\n\u001b[0;32m----> 1\u001b[0m \u001b[43mt\u001b[49m\u001b[43m[\u001b[49m\u001b[38;5;241;43m0\u001b[39;49m\u001b[43m]\u001b[49m\u001b[38;5;241m=\u001b[39m\u001b[38;5;124m\"\u001b[39m\u001b[38;5;124mtapan\u001b[39m\u001b[38;5;124m\"\u001b[39m\n",
      "\u001b[0;31mTypeError\u001b[0m: 'tuple' object does not support item assignment"
     ]
    }
   ],
   "source": [
    "t[0]=\"tapan\""
   ]
  },
  {
   "cell_type": "code",
   "execution_count": 132,
   "id": "6a5eac65-0c2d-4c06-81fa-976b9674d30c",
   "metadata": {},
   "outputs": [],
   "source": [
    "##strings and tuples are immutable but list are mutable"
   ]
  },
  {
   "cell_type": "code",
   "execution_count": null,
   "id": "a39b40a8-a005-47e5-869e-6c4252ae4430",
   "metadata": {},
   "outputs": [],
   "source": [
    "#we use tuples as password bcz it's not changeble"
   ]
  },
  {
   "cell_type": "code",
   "execution_count": 136,
   "id": "a50f98ed-e3d7-4324-b9c9-1aa2f80b4718",
   "metadata": {},
   "outputs": [
    {
     "data": {
      "text/plain": [
       "2"
      ]
     },
     "execution_count": 136,
     "metadata": {},
     "output_type": "execute_result"
    }
   ],
   "source": [
    "t.count(7)"
   ]
  },
  {
   "cell_type": "code",
   "execution_count": 137,
   "id": "50b67100-74f1-4c37-8d72-dc661e98b483",
   "metadata": {},
   "outputs": [
    {
     "data": {
      "text/plain": [
       "7"
      ]
     },
     "execution_count": 137,
     "metadata": {},
     "output_type": "execute_result"
    }
   ],
   "source": [
    "t.index(7)"
   ]
  },
  {
   "cell_type": "code",
   "execution_count": 138,
   "id": "f28acbec-9f8c-4337-8d09-9081fa5e9f44",
   "metadata": {},
   "outputs": [],
   "source": [
    "s1={}\n"
   ]
  },
  {
   "cell_type": "code",
   "execution_count": 139,
   "id": "668dfd4d-dec1-4ea3-be45-dd4d199e2a62",
   "metadata": {},
   "outputs": [
    {
     "data": {
      "text/plain": [
       "dict"
      ]
     },
     "execution_count": 139,
     "metadata": {},
     "output_type": "execute_result"
    }
   ],
   "source": [
    "type(s1)"
   ]
  },
  {
   "cell_type": "code",
   "execution_count": 140,
   "id": "f8bd9218-304a-4606-98f4-8bcf73d84ec9",
   "metadata": {},
   "outputs": [],
   "source": [
    "t1=()"
   ]
  },
  {
   "cell_type": "code",
   "execution_count": 141,
   "id": "4a84c74c-ed3f-48e7-b133-8d5f6d4a604d",
   "metadata": {},
   "outputs": [
    {
     "data": {
      "text/plain": [
       "tuple"
      ]
     },
     "execution_count": 141,
     "metadata": {},
     "output_type": "execute_result"
    }
   ],
   "source": [
    "type(t1)"
   ]
  },
  {
   "cell_type": "code",
   "execution_count": 142,
   "id": "5f60fd23-6647-4ff3-9249-253499a0dfcb",
   "metadata": {},
   "outputs": [],
   "source": [
    "s2={3,4,5,6,7}"
   ]
  },
  {
   "cell_type": "code",
   "execution_count": 143,
   "id": "602542e0-8056-4582-9d76-a20a78e2e164",
   "metadata": {},
   "outputs": [
    {
     "data": {
      "text/plain": [
       "set"
      ]
     },
     "execution_count": 143,
     "metadata": {},
     "output_type": "execute_result"
    }
   ],
   "source": [
    "type(s2)"
   ]
  },
  {
   "cell_type": "code",
   "execution_count": 145,
   "id": "ff4215ed-83e6-4c65-8a1c-8343074b2ef8",
   "metadata": {},
   "outputs": [],
   "source": [
    "s3={76,87.9,\"tapan\",78,(6,8,9)}"
   ]
  },
  {
   "cell_type": "code",
   "execution_count": 146,
   "id": "91d160f5-9015-45bc-8f5b-a304d71cd53b",
   "metadata": {},
   "outputs": [
    {
     "data": {
      "text/plain": [
       "{(6, 8, 9), 76, 78, 87.9, 'tapan'}"
      ]
     },
     "execution_count": 146,
     "metadata": {},
     "output_type": "execute_result"
    }
   ],
   "source": [
    "s3"
   ]
  },
  {
   "cell_type": "code",
   "execution_count": 147,
   "id": "6425c161-e038-409e-b2a9-6bb856a4c0d9",
   "metadata": {},
   "outputs": [],
   "source": [
    "# set include immutable data but not contains any mutable data type so,it shows error when we add any list inside the set "
   ]
  },
  {
   "cell_type": "code",
   "execution_count": 151,
   "id": "d609b4ed-0c94-4762-92f1-d281f71df77d",
   "metadata": {},
   "outputs": [],
   "source": [
    "s4={2,3,4,5,6,7,8,5,3,2,4,5,6,43,3,6,3,\"tapan\",\"Tapan\"}"
   ]
  },
  {
   "cell_type": "code",
   "execution_count": 152,
   "id": "768f8ec3-8c80-46ad-8c58-b3ec4138db1a",
   "metadata": {},
   "outputs": [
    {
     "data": {
      "text/plain": [
       "{2, 3, 4, 43, 5, 6, 7, 8, 'Tapan', 'tapan'}"
      ]
     },
     "execution_count": 152,
     "metadata": {},
     "output_type": "execute_result"
    }
   ],
   "source": [
    "s4"
   ]
  },
  {
   "cell_type": "code",
   "execution_count": 150,
   "id": "933e43ae-8121-41da-9b06-a708d544c20a",
   "metadata": {},
   "outputs": [],
   "source": [
    "# sets are contains only unique data it doesn't contain any duplicate value"
   ]
  },
  {
   "cell_type": "code",
   "execution_count": 153,
   "id": "1c9401c9-40c3-406b-9f2b-110c8d2a7a7e",
   "metadata": {},
   "outputs": [],
   "source": [
    "l5=[2,3,4,5,6,7,8,5,3,2,4,5,6,43,3,6,3,\"tapan\",\"Tapan\"]"
   ]
  },
  {
   "cell_type": "code",
   "execution_count": 154,
   "id": "272880d6-c523-4389-b237-e62aaf79e923",
   "metadata": {},
   "outputs": [
    {
     "data": {
      "text/plain": [
       "{2, 3, 4, 43, 5, 6, 7, 8, 'Tapan', 'tapan'}"
      ]
     },
     "execution_count": 154,
     "metadata": {},
     "output_type": "execute_result"
    }
   ],
   "source": [
    "set(l5)"
   ]
  },
  {
   "cell_type": "code",
   "execution_count": 155,
   "id": "08f261b7-07a8-4923-b87e-2031454a4be0",
   "metadata": {},
   "outputs": [],
   "source": [
    "l5=set(l5)"
   ]
  },
  {
   "cell_type": "code",
   "execution_count": 156,
   "id": "77b29f12-94fc-4720-8123-8455cf091142",
   "metadata": {},
   "outputs": [
    {
     "data": {
      "text/plain": [
       "{2, 3, 4, 43, 5, 6, 7, 8, 'Tapan', 'tapan'}"
      ]
     },
     "execution_count": 156,
     "metadata": {},
     "output_type": "execute_result"
    }
   ],
   "source": [
    "l5"
   ]
  },
  {
   "cell_type": "code",
   "execution_count": 157,
   "id": "8e43e350-efd9-4f8a-9c17-c8c390c943df",
   "metadata": {},
   "outputs": [],
   "source": [
    "l5=list(set(l5))"
   ]
  },
  {
   "cell_type": "code",
   "execution_count": 158,
   "id": "55b3d303-a676-4178-9f0f-7662cc9574ec",
   "metadata": {},
   "outputs": [
    {
     "data": {
      "text/plain": [
       "[2, 3, 4, 5, 6, 7, 8, 43, 'Tapan', 'tapan']"
      ]
     },
     "execution_count": 158,
     "metadata": {},
     "output_type": "execute_result"
    }
   ],
   "source": [
    "l5"
   ]
  },
  {
   "cell_type": "code",
   "execution_count": 159,
   "id": "a6df0839-b444-42de-a794-d6f063a7de26",
   "metadata": {},
   "outputs": [
    {
     "data": {
      "text/plain": [
       "{2, 3, 4, 43, 5, 6, 7, 8, 'Tapan', 'tapan'}"
      ]
     },
     "execution_count": 159,
     "metadata": {},
     "output_type": "execute_result"
    }
   ],
   "source": [
    "s4 "
   ]
  },
  {
   "cell_type": "code",
   "execution_count": 160,
   "id": "5436594e-0bc3-4138-b240-2b7f9e1fafda",
   "metadata": {},
   "outputs": [],
   "source": [
    "s4.add(9)"
   ]
  },
  {
   "cell_type": "code",
   "execution_count": 161,
   "id": "b0e75e26-8bf7-49f6-9c2b-518d6190d7d6",
   "metadata": {},
   "outputs": [
    {
     "data": {
      "text/plain": [
       "{2, 3, 4, 43, 5, 6, 7, 8, 9, 'Tapan', 'tapan'}"
      ]
     },
     "execution_count": 161,
     "metadata": {},
     "output_type": "execute_result"
    }
   ],
   "source": [
    "s4"
   ]
  },
  {
   "cell_type": "code",
   "execution_count": 162,
   "id": "d5f3af79-86a7-4e91-8095-af4d9c2456a5",
   "metadata": {},
   "outputs": [
    {
     "data": {
      "text/plain": [
       "{2, 3, 4, 43, 5, 6, 7, 8, 9, 'Tapan', 'tapan'}"
      ]
     },
     "execution_count": 162,
     "metadata": {},
     "output_type": "execute_result"
    }
   ],
   "source": [
    "s4"
   ]
  },
  {
   "cell_type": "code",
   "execution_count": 163,
   "id": "700c8b53-4ca1-42b9-9cb5-2fa7b64b3a42",
   "metadata": {},
   "outputs": [],
   "source": [
    "s4.remove(9)"
   ]
  },
  {
   "cell_type": "code",
   "execution_count": 164,
   "id": "ff794a82-3bd6-4572-bf0b-35e0421e5b9c",
   "metadata": {},
   "outputs": [
    {
     "data": {
      "text/plain": [
       "{2, 3, 4, 43, 5, 6, 7, 8, 'Tapan', 'tapan'}"
      ]
     },
     "execution_count": 164,
     "metadata": {},
     "output_type": "execute_result"
    }
   ],
   "source": [
    "s4"
   ]
  },
  {
   "cell_type": "code",
   "execution_count": 165,
   "id": "a523792a-dcaa-49cf-ac2b-7a3fac3708aa",
   "metadata": {},
   "outputs": [
    {
     "data": {
      "text/plain": [
       "{2, 3, 4, 43, 5, 6, 7, 8, 'Tapan', 'tapan'}"
      ]
     },
     "execution_count": 165,
     "metadata": {},
     "output_type": "execute_result"
    }
   ],
   "source": [
    "s4"
   ]
  },
  {
   "cell_type": "code",
   "execution_count": 166,
   "id": "d706fbff-6297-48ae-be11-7be7657a24f2",
   "metadata": {},
   "outputs": [
    {
     "data": {
      "text/plain": [
       "(-1+3j)"
      ]
     },
     "execution_count": 166,
     "metadata": {},
     "output_type": "execute_result"
    }
   ],
   "source": [
    "num1= 23\n",
    "\n",
    "num2= 44\n",
    "\n",
    "num2= 2+3j\n",
    "\n",
    "num1= num2.imag\n",
    "\n",
    "num2-num1"
   ]
  },
  {
   "cell_type": "code",
   "execution_count": 170,
   "id": "05a496ac-7994-46d2-91a7-443b707e731b",
   "metadata": {},
   "outputs": [],
   "source": [
    "s7=''' \"tapan\",\"pati\" '''"
   ]
  },
  {
   "cell_type": "code",
   "execution_count": 168,
   "id": "7672d4a2-0042-424c-a2ca-58be4fa00f40",
   "metadata": {},
   "outputs": [
    {
     "data": {
      "text/plain": [
       "' \"tapan\",\"pati\" '"
      ]
     },
     "execution_count": 168,
     "metadata": {},
     "output_type": "execute_result"
    }
   ],
   "source": [
    "s7"
   ]
  },
  {
   "cell_type": "code",
   "execution_count": 172,
   "id": "244f5935-a2b0-4b2c-92aa-b08964d34aca",
   "metadata": {},
   "outputs": [],
   "source": [
    "Name = \"pwskills\"\n",
    "\n"
   ]
  },
  {
   "cell_type": "code",
   "execution_count": 174,
   "id": "e55a2d2d-1d05-479e-933c-b9c8bfcac082",
   "metadata": {},
   "outputs": [
    {
     "ename": "TypeError",
     "evalue": "'str' object does not support item assignment",
     "output_type": "error",
     "traceback": [
      "\u001b[0;31m---------------------------------------------------------------------------\u001b[0m",
      "\u001b[0;31mTypeError\u001b[0m                                 Traceback (most recent call last)",
      "Cell \u001b[0;32mIn[174], line 1\u001b[0m\n\u001b[0;32m----> 1\u001b[0m \u001b[43mName\u001b[49m\u001b[43m[\u001b[49m\u001b[38;5;241;43m0\u001b[39;49m\u001b[43m]\u001b[49m \u001b[38;5;241m=\u001b[39m \u001b[38;5;124m\"\u001b[39m\u001b[38;5;124mP\u001b[39m\u001b[38;5;124m\"\u001b[39m\n",
      "\u001b[0;31mTypeError\u001b[0m: 'str' object does not support item assignment"
     ]
    }
   ],
   "source": [
    "Name[0] = \"P\""
   ]
  },
  {
   "cell_type": "code",
   "execution_count": 177,
   "id": "3d2a963f-0298-4af7-8ca6-0b2518b29e4e",
   "metadata": {},
   "outputs": [
    {
     "data": {
      "text/plain": [
       "True"
      ]
     },
     "execution_count": 177,
     "metadata": {},
     "output_type": "execute_result"
    }
   ],
   "source": [
    "\"pwskills\".isalnum()"
   ]
  },
  {
   "cell_type": "code",
   "execution_count": 178,
   "id": "62eedcdd-640e-4e9a-82f2-8686ed4ccaea",
   "metadata": {},
   "outputs": [
    {
     "data": {
      "text/plain": [
       "False"
      ]
     },
     "execution_count": 178,
     "metadata": {},
     "output_type": "execute_result"
    }
   ],
   "source": [
    "\"pwskills\".upper().lower().isupper()"
   ]
  },
  {
   "cell_type": "code",
   "execution_count": 179,
   "id": "a840b373-d211-4d5a-ba7e-8802c0f5b3f8",
   "metadata": {},
   "outputs": [
    {
     "name": "stdout",
     "output_type": "stream",
     "text": [
      "['0', '10', '20', '30', '40', '50']\n"
     ]
    }
   ],
   "source": [
    "list_out=[]\n",
    "\n",
    "for i in range(0,51,10):\n",
    "\n",
    "    list_out.append(str(i))\n",
    "\n",
    "print(list_out)"
   ]
  },
  {
   "cell_type": "code",
   "execution_count": 180,
   "id": "8a66fc6a-4c57-4244-9ee9-326d7f1505f8",
   "metadata": {},
   "outputs": [],
   "source": [
    "t=(45,)"
   ]
  },
  {
   "cell_type": "code",
   "execution_count": 181,
   "id": "15d4ec83-63f3-4e53-a525-0f1b7976f597",
   "metadata": {},
   "outputs": [
    {
     "data": {
      "text/plain": [
       "tuple"
      ]
     },
     "execution_count": 181,
     "metadata": {},
     "output_type": "execute_result"
    }
   ],
   "source": [
    "type(t)"
   ]
  },
  {
   "cell_type": "code",
   "execution_count": 182,
   "id": "070b0d39-59c2-4166-86c7-dc77c24f2bf0",
   "metadata": {},
   "outputs": [
    {
     "name": "stdout",
     "output_type": "stream",
     "text": [
      "{1, 4, 9, 16, 25}\n"
     ]
    }
   ],
   "source": [
    "numbers = (1,2,3,4,5, 5,4,3,2,1)\n",
    "\n",
    "list=[]\n",
    "\n",
    "for number in numbers:\n",
    "\n",
    "   list.append(number**2)\n",
    "\n",
    "print(set(list))"
   ]
  },
  {
   "cell_type": "code",
   "execution_count": null,
   "id": "541b22b1-7443-45e9-8e08-0138685f89f5",
   "metadata": {},
   "outputs": [],
   "source": []
  }
 ],
 "metadata": {
  "kernelspec": {
   "display_name": "Python 3 (ipykernel)",
   "language": "python",
   "name": "python3"
  },
  "language_info": {
   "codemirror_mode": {
    "name": "ipython",
    "version": 3
   },
   "file_extension": ".py",
   "mimetype": "text/x-python",
   "name": "python",
   "nbconvert_exporter": "python",
   "pygments_lexer": "ipython3",
   "version": "3.10.8"
  }
 },
 "nbformat": 4,
 "nbformat_minor": 5
}
